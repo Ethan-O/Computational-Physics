{
 "cells": [
  {
   "cell_type": "code",
   "execution_count": 1,
   "metadata": {
    "scrolled": true
   },
   "outputs": [
    {
     "data": {
      "application/javascript": [
       "require.undef(\"nbextensions/vpython_libraries/glow.min\");"
      ],
      "text/plain": [
       "<IPython.core.display.Javascript object>"
      ]
     },
     "metadata": {},
     "output_type": "display_data"
    },
    {
     "data": {
      "application/javascript": [
       "require.undef(\"nbextensions/vpython_libraries/glowcomm\");"
      ],
      "text/plain": [
       "<IPython.core.display.Javascript object>"
      ]
     },
     "metadata": {},
     "output_type": "display_data"
    },
    {
     "data": {
      "application/javascript": [
       "require.undef(\"nbextensions/vpython_libraries/jquery-ui.custom.min\");"
      ],
      "text/plain": [
       "<IPython.core.display.Javascript object>"
      ]
     },
     "metadata": {},
     "output_type": "display_data"
    },
    {
     "data": {
      "application/javascript": [
       "require([\"nbextensions/vpython_libraries/glow.min\"], function(){console.log(\"GLOW LOADED\");})"
      ],
      "text/plain": [
       "<IPython.core.display.Javascript object>"
      ]
     },
     "metadata": {},
     "output_type": "display_data"
    },
    {
     "data": {
      "application/javascript": [
       "require([\"nbextensions/vpython_libraries/glowcomm\"], function(){console.log(\"GLOWCOMM LOADED\");})"
      ],
      "text/plain": [
       "<IPython.core.display.Javascript object>"
      ]
     },
     "metadata": {},
     "output_type": "display_data"
    },
    {
     "data": {
      "application/javascript": [
       "require([\"nbextensions/vpython_libraries/jquery-ui.custom.min\"], function(){console.log(\"JQUERY LOADED\");})"
      ],
      "text/plain": [
       "<IPython.core.display.Javascript object>"
      ]
     },
     "metadata": {},
     "output_type": "display_data"
    },
    {
     "data": {
      "text/html": [
       "<div id=\"glowscript\" class=\"glowscript\"></div>"
      ],
      "text/plain": [
       "<IPython.core.display.HTML object>"
      ]
     },
     "metadata": {},
     "output_type": "display_data"
    },
    {
     "data": {
      "application/javascript": [
       "window.__context = { glowscript_container: $(\"#glowscript\").removeAttr(\"id\")}"
      ],
      "text/plain": [
       "<IPython.core.display.Javascript object>"
      ]
     },
     "metadata": {},
     "output_type": "display_data"
    },
    {
     "ename": "KeyboardInterrupt",
     "evalue": "",
     "output_type": "error",
     "traceback": [
      "\u001b[1;31m---------------------------------------------------------------------------\u001b[0m",
      "\u001b[1;31mKeyboardInterrupt\u001b[0m                         Traceback (most recent call last)",
      "\u001b[1;32m<ipython-input-1-66f88b7620ea>\u001b[0m in \u001b[0;36m<module>\u001b[1;34m()\u001b[0m\n\u001b[0;32m     67\u001b[0m \u001b[1;33m\u001b[0m\u001b[0m\n\u001b[0;32m     68\u001b[0m \u001b[1;32mwhile\u001b[0m \u001b[1;36m1\u001b[0m\u001b[1;33m:\u001b[0m \u001b[1;31m# use Euler-Cromer method\u001b[0m\u001b[1;33m\u001b[0m\u001b[0m\n\u001b[1;32m---> 69\u001b[1;33m     \u001b[0mrate\u001b[0m\u001b[1;33m(\u001b[0m\u001b[1;36m100\u001b[0m\u001b[1;33m)\u001b[0m\u001b[1;33m\u001b[0m\u001b[0m\n\u001b[0m\u001b[0;32m     70\u001b[0m     \u001b[1;31m#Finding the position Vectors\u001b[0m\u001b[1;33m\u001b[0m\u001b[1;33m\u001b[0m\u001b[0m\n\u001b[0;32m     71\u001b[0m     \u001b[0mre\u001b[0m \u001b[1;33m=\u001b[0m \u001b[0msqrt\u001b[0m\u001b[1;33m(\u001b[0m\u001b[0mxe\u001b[0m\u001b[1;33m**\u001b[0m\u001b[1;36m2\u001b[0m \u001b[1;33m+\u001b[0m \u001b[0mye\u001b[0m\u001b[1;33m**\u001b[0m\u001b[1;36m2\u001b[0m\u001b[1;33m)\u001b[0m\u001b[1;33m\u001b[0m\u001b[0m\n",
      "\u001b[1;32mC:\\Users\\ethan\\Anaconda3\\lib\\site-packages\\vpython\\vpython.py\u001b[0m in \u001b[0;36m__call__\u001b[1;34m(self, N)\u001b[0m\n\u001b[0;32m    209\u001b[0m         \u001b[0mself\u001b[0m\u001b[1;33m.\u001b[0m\u001b[0mrval\u001b[0m \u001b[1;33m=\u001b[0m \u001b[0mN\u001b[0m\u001b[1;33m\u001b[0m\u001b[0m\n\u001b[0;32m    210\u001b[0m         \u001b[1;32mif\u001b[0m \u001b[0mself\u001b[0m\u001b[1;33m.\u001b[0m\u001b[0mrval\u001b[0m \u001b[1;33m<\u001b[0m \u001b[1;36m1\u001b[0m\u001b[1;33m:\u001b[0m \u001b[1;32mraise\u001b[0m \u001b[0mValueError\u001b[0m\u001b[1;33m(\u001b[0m\u001b[1;34m\"rate value must be greater than or equal to 1\"\u001b[0m\u001b[1;33m)\u001b[0m\u001b[1;33m\u001b[0m\u001b[0m\n\u001b[1;32m--> 211\u001b[1;33m         \u001b[0msuper\u001b[0m\u001b[1;33m(\u001b[0m\u001b[0m_RateKeeper2\u001b[0m\u001b[1;33m,\u001b[0m \u001b[0mself\u001b[0m\u001b[1;33m)\u001b[0m\u001b[1;33m.\u001b[0m\u001b[0m__call__\u001b[0m\u001b[1;33m(\u001b[0m\u001b[0mself\u001b[0m\u001b[1;33m.\u001b[0m\u001b[0mrval\u001b[0m\u001b[1;33m)\u001b[0m \u001b[1;31m## calls __call__ in rate_control.py\u001b[0m\u001b[1;33m\u001b[0m\u001b[0m\n\u001b[0m\u001b[0;32m    212\u001b[0m \u001b[1;33m\u001b[0m\u001b[0m\n\u001b[0;32m    213\u001b[0m \u001b[1;32mif\u001b[0m \u001b[0msys\u001b[0m\u001b[1;33m.\u001b[0m\u001b[0mversion\u001b[0m \u001b[1;33m>\u001b[0m \u001b[1;34m'3'\u001b[0m\u001b[1;33m:\u001b[0m\u001b[1;33m\u001b[0m\u001b[0m\n",
      "\u001b[1;32mC:\\Users\\ethan\\Anaconda3\\lib\\site-packages\\vpython\\rate_control.py\u001b[0m in \u001b[0;36m__call__\u001b[1;34m(self, maxRate)\u001b[0m\n\u001b[0;32m    205\u001b[0m             \u001b[0mdt\u001b[0m \u001b[1;33m=\u001b[0m \u001b[0mself\u001b[0m\u001b[1;33m.\u001b[0m\u001b[0mlastSleep\u001b[0m \u001b[1;33m+\u001b[0m \u001b[0mself\u001b[0m\u001b[1;33m.\u001b[0m\u001b[0mcalls\u001b[0m\u001b[1;33m*\u001b[0m\u001b[1;33m(\u001b[0m\u001b[0mself\u001b[0m\u001b[1;33m.\u001b[0m\u001b[0muserTime\u001b[0m \u001b[1;33m+\u001b[0m \u001b[0mself\u001b[0m\u001b[1;33m.\u001b[0m\u001b[0mcallTime\u001b[0m \u001b[1;33m+\u001b[0m \u001b[0mself\u001b[0m\u001b[1;33m.\u001b[0m\u001b[0mdelay\u001b[0m\u001b[1;33m)\u001b[0m \u001b[1;33m+\u001b[0m\u001b[0;31m \u001b[0m\u001b[0;31m\\\u001b[0m\u001b[1;33m\u001b[0m\u001b[0m\n\u001b[0;32m    206\u001b[0m                  \u001b[0mrenders\u001b[0m\u001b[1;33m*\u001b[0m\u001b[0mself\u001b[0m\u001b[1;33m.\u001b[0m\u001b[0mrenderTime\u001b[0m \u001b[1;33m+\u001b[0m \u001b[0msleeps\u001b[0m\u001b[1;33m*\u001b[0m\u001b[0mself\u001b[0m\u001b[1;33m.\u001b[0m\u001b[0minteractionPeriod\u001b[0m \u001b[1;33m-\u001b[0m \u001b[0m_clock\u001b[0m\u001b[1;33m(\u001b[0m\u001b[1;33m)\u001b[0m\u001b[1;33m\u001b[0m\u001b[0m\n\u001b[1;32m--> 207\u001b[1;33m             \u001b[0m_sleep\u001b[0m\u001b[1;33m(\u001b[0m\u001b[0mdt\u001b[0m\u001b[1;33m)\u001b[0m\u001b[1;33m\u001b[0m\u001b[0m\n\u001b[0m\u001b[0;32m    208\u001b[0m             \u001b[0mself\u001b[0m\u001b[1;33m.\u001b[0m\u001b[0mlastSleep\u001b[0m \u001b[1;33m=\u001b[0m \u001b[0m_clock\u001b[0m\u001b[1;33m(\u001b[0m\u001b[1;33m)\u001b[0m\u001b[1;33m\u001b[0m\u001b[0m\n\u001b[0;32m    209\u001b[0m             \u001b[0mself\u001b[0m\u001b[1;33m.\u001b[0m\u001b[0mcalls\u001b[0m \u001b[1;33m=\u001b[0m \u001b[1;36m0\u001b[0m\u001b[1;33m\u001b[0m\u001b[0m\n",
      "\u001b[1;32mC:\\Users\\ethan\\Anaconda3\\lib\\site-packages\\vpython\\rate_control.py\u001b[0m in \u001b[0;36m_sleep\u001b[1;34m(dt)\u001b[0m\n\u001b[0;32m     47\u001b[0m         \u001b[0mdtsleep\u001b[0m \u001b[1;33m=\u001b[0m \u001b[0mnticks\u001b[0m\u001b[1;33m*\u001b[0m\u001b[0m_tick\u001b[0m\u001b[1;33m\u001b[0m\u001b[0m\n\u001b[0;32m     48\u001b[0m         \u001b[0mt\u001b[0m \u001b[1;33m=\u001b[0m \u001b[0m_clock\u001b[0m\u001b[1;33m(\u001b[0m\u001b[1;33m)\u001b[0m\u001b[1;33m\u001b[0m\u001b[0m\n\u001b[1;32m---> 49\u001b[1;33m         \u001b[0mtime\u001b[0m\u001b[1;33m.\u001b[0m\u001b[0msleep\u001b[0m\u001b[1;33m(\u001b[0m\u001b[0mdtsleep\u001b[0m\u001b[1;33m)\u001b[0m\u001b[1;33m\u001b[0m\u001b[0m\n\u001b[0m\u001b[0;32m     50\u001b[0m         \u001b[0mt\u001b[0m \u001b[1;33m=\u001b[0m \u001b[0m_clock\u001b[0m\u001b[1;33m(\u001b[0m\u001b[1;33m)\u001b[0m\u001b[1;33m-\u001b[0m\u001b[0mt\u001b[0m\u001b[1;33m\u001b[0m\u001b[0m\n\u001b[0;32m     51\u001b[0m         \u001b[0mdt\u001b[0m \u001b[1;33m-=\u001b[0m \u001b[0mt\u001b[0m\u001b[1;33m\u001b[0m\u001b[0m\n",
      "\u001b[1;31mKeyboardInterrupt\u001b[0m: "
     ]
    }
   ],
   "source": [
    "# Planetary motion with the Euler-Cromer method\n",
    "# based on Giordano and Nakanishi, \"Computational Physics\"\n",
    "# Yongli Gao,  2/11/2006\n",
    "#\n",
    "# Add a plot for the Earth as the Vpython zooming has failed.\n",
    "# Yongli Gao,  2/15/2017\n",
    "\n",
    "from vpython import *\n",
    "import numpy as np\n",
    "# possible values x=1, y=0, v_x=0, v_y=2pi, dt=0.002, beta=2\n",
    "print (\"two planet motion\")\n",
    "\n",
    "#Mass of the earth and jupitor in solar mass\n",
    "me = 3.0e-6\n",
    "mj = 9.5e-4\n",
    "\n",
    "\n",
    "#Initial Values\n",
    "\n",
    "xe = 1.\n",
    "ye = 0.\n",
    "ve_x = 0.\n",
    "ve_y = 6.28\n",
    "xj = 0.\n",
    "yj = 5.2\n",
    "vj_x = - 2. * pi / sqrt(yj)\n",
    "vj_y = 0.\n",
    "#To make the momentum of the system zero, the sun's momentum must counter the earth and jupitor's\n",
    "xs = 0\n",
    "ys = 0\n",
    "\n",
    "vs_x = -ve_x*me -vj_x*mj\n",
    "vs_y = -ve_y*me -vj_y*mj\n",
    "\n",
    "#Time Step interval\n",
    "dt = 0.02\n",
    "\n",
    "\n",
    "#Center of Mass\n",
    "xc = me*xe+mj*xj+1*xs/(me+mj+1)\n",
    "yc = me*ye+mj*ye+1*ys/(me+mj+1)\n",
    "\n",
    "\n",
    "# plot \n",
    "window_w = 400\n",
    "scene1 = display(width=window_w, height=window_w)\n",
    "earth = sphere(radius=0.1, color=color.green)\n",
    "earth.trail = curve(color=color.cyan)\n",
    "jupiter = sphere(radius=0.1, color=color.yellow)\n",
    "jupiter.trail = curve(color=color.cyan)\n",
    "sun = sphere(radius = 0.05, color=color.red,opacity=0.3)\n",
    "sun.trail= curve(color=color.cyan)\n",
    "center = sphere(pos=vec(xc,yc,0.), radius = 0.001, color=color.white)\n",
    "\n",
    "\n",
    "#Labels\n",
    "l1= label(pos=vec(-5,5,0), text='Kinetic E of Earth')\n",
    "l2= label(pos=vec(-5,4.0,0), text='Kinetic E of Jupiter')\n",
    "\n",
    "l3 = label(pos=vec(-5,3,0), text='Ang Momentum Earth')\n",
    "l4= label(pos=vec(-5,2,0), text='Ang Momentum Jupiter')\n",
    "\n",
    "s1 = 'Kinetic E of Earth: '\n",
    "s2 = 'Kinetic E of Jupiter: '\n",
    "s3 = 'Ang Momentum Earth:'\n",
    "s4 = 'Ang Momentum Jupiter: '\n",
    "\n",
    "while 1: # use Euler-Cromer method\n",
    "    rate(100)\n",
    "    #Finding the position Vectors\n",
    "    re = sqrt(xe**2 + ye**2)\n",
    "    rj = sqrt(xj**2 + yj**2)\n",
    "    rs = sqrt(xs**2 + ys**2)\n",
    "    \n",
    "    #Finding the Body to Body vectors\n",
    "    rej = sqrt((xe-xj)**2 + (ye-yj)**2)\n",
    "    res = sqrt((xe-xs)**2 + (ye-ys)**2)\n",
    "    rjs = sqrt((xj-xs)**2 + (yj-ys)**2)\n",
    "    #G*Mu=v^2*r\n",
    "    \n",
    "    #Velocity Step\n",
    "    ve_x = ve_x - 4*np.pi**2*(xe-xs)/(res**3)*dt - 4*np.pi**2*(xe-xj)*mj/(rej**3)*dt\n",
    "    ve_y = ve_y - 4*np.pi**2*(ye-ys)/(res**3)*dt - 4*np.pi**2*(ye-yj)*mj/(rej**3)*dt\n",
    "    \n",
    "    vj_x = vj_x - 4*np.pi**2*(xj-xs)/(rjs**3)*dt - 4*np.pi**2*(xj-xe)*me/(rej**3)*dt\n",
    "    vj_y = vj_y - 4*np.pi**2*(yj-ys)/(rjs**3)*dt - 4*np.pi**2*(yj-ye)*me/(rej**3)*dt\n",
    "    \n",
    "    vs_x = vs_x - 4*np.pi**2*(xs-xj)*mj/(rjs**3)*dt - 4*np.pi**2*(xs-xe)*me/(res**3)*dt\n",
    "    vs_y = vs_y - 4*np.pi**2*(ys-yj)*mj/(rjs**3)*dt - 4*np.pi**2*(ys-ye)*me/(res**3)*dt\n",
    "    \n",
    "    #Position Step\n",
    "    xe = xe + ve_x * dt\n",
    "    ye = ye + ve_y * dt\n",
    "    xj = xj + vj_x * dt\n",
    "    yj = yj + vj_y * dt\n",
    "    xs = xs + vs_x * dt\n",
    "    ys = ys + vs_y * dt\n",
    "    #Calculating velocity Magnetude\n",
    "    ve = np.hypot(ve_x,ve_y)\n",
    "    vj = np.hypot(vj_x,vj_y)\n",
    "    vs = np.hypot(vs_x,vs_y)\n",
    "    \n",
    "    #Calculating Engery and Angular Momentum\n",
    "    ke = me*1/2*ve**2\n",
    "    kj = mj*1/2*vj**2\n",
    "    ks = 1/2*vs**2\n",
    "    \n",
    "    Le = me*ve/re\n",
    "    Lj = mj*vj/rj\n",
    "    \n",
    "    #Labels\n",
    "    l1.text = s1 + str(ke)\n",
    "    l2.text = s2 + str(kj)\n",
    "    \n",
    "    l3.text = s3 +str(Le)\n",
    "    l4.text = s4 +str(Lj)\n",
    "    #Updating Body Positions\n",
    "    earth.pos = vec(xe,ye,0.)\n",
    "    earth.trail.append(pos=earth.pos)\n",
    "    jupiter.pos = vec(xj,yj,0.)\n",
    "    jupiter.trail.append(pos=jupiter.pos)\n",
    "    sun.pos= vec(xs, ys,0.)\n",
    "    sun.trail.append(pos=sun.pos)\n",
    "\n",
    "\n"
   ]
  },
  {
   "cell_type": "code",
   "execution_count": 3,
   "metadata": {},
   "outputs": [
    {
     "data": {
      "text/html": [
       "<div id=\"glowscript\" class=\"glowscript\"></div>"
      ],
      "text/plain": [
       "<IPython.core.display.HTML object>"
      ]
     },
     "metadata": {},
     "output_type": "display_data"
    },
    {
     "data": {
      "application/javascript": [
       "window.__context = { glowscript_container: $(\"#glowscript\").removeAttr(\"id\")}"
      ],
      "text/plain": [
       "<IPython.core.display.Javascript object>"
      ]
     },
     "metadata": {},
     "output_type": "display_data"
    }
   ],
   "source": [
    "from vpython import *\n",
    "scene = canvas()\n",
    "box()"
   ]
  },
  {
   "cell_type": "code",
   "execution_count": null,
   "metadata": {
    "collapsed": true
   },
   "outputs": [],
   "source": []
  },
  {
   "cell_type": "code",
   "execution_count": null,
   "metadata": {
    "collapsed": true
   },
   "outputs": [],
   "source": []
  }
 ],
 "metadata": {
  "kernelspec": {
   "display_name": "Python 3",
   "language": "python",
   "name": "python3"
  },
  "language_info": {
   "codemirror_mode": {
    "name": "ipython",
    "version": 3
   },
   "file_extension": ".py",
   "mimetype": "text/x-python",
   "name": "python",
   "nbconvert_exporter": "python",
   "pygments_lexer": "ipython3",
   "version": "3.6.1"
  }
 },
 "nbformat": 4,
 "nbformat_minor": 2
}
